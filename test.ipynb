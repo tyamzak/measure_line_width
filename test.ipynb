{
 "cells": [
  {
   "cell_type": "code",
   "execution_count": 3,
   "metadata": {},
   "outputs": [
    {
     "ename": "error",
     "evalue": "OpenCV(4.6.0) D:\\a\\opencv-python\\opencv-python\\opencv\\modules\\imgproc\\src\\color.cpp:182: error: (-215:Assertion failed) !_src.empty() in function 'cv::cvtColor'\n",
     "output_type": "error",
     "traceback": [
      "\u001b[1;31m---------------------------------------------------------------------------\u001b[0m",
      "\u001b[1;31merror\u001b[0m                                     Traceback (most recent call last)",
      "\u001b[1;32mc:\\Users\\user\\measure_line_width-1\\test.ipynb Cell 1'\u001b[0m in \u001b[0;36m<cell line: 5>\u001b[1;34m()\u001b[0m\n\u001b[0;32m      <a href='vscode-notebook-cell:/c%3A/Users/user/measure_line_width-1/test.ipynb#ch0000000?line=2'>3</a>\u001b[0m get_ipython()\u001b[39m.\u001b[39mrun_line_magic(\u001b[39m'\u001b[39m\u001b[39mmatplotlib\u001b[39m\u001b[39m'\u001b[39m, \u001b[39m'\u001b[39m\u001b[39minline\u001b[39m\u001b[39m'\u001b[39m)\n\u001b[0;32m      <a href='vscode-notebook-cell:/c%3A/Users/user/measure_line_width-1/test.ipynb#ch0000000?line=3'>4</a>\u001b[0m img \u001b[39m=\u001b[39m cv2\u001b[39m.\u001b[39mimread(\u001b[39m\"\u001b[39m\u001b[39mC横線.jpg\u001b[39m\u001b[39m\"\u001b[39m)\n\u001b[1;32m----> <a href='vscode-notebook-cell:/c%3A/Users/user/measure_line_width-1/test.ipynb#ch0000000?line=4'>5</a>\u001b[0m gray \u001b[39m=\u001b[39m cv2\u001b[39m.\u001b[39;49mcvtColor(img,cv2\u001b[39m.\u001b[39;49mCOLOR_BGR2GRAY)\n\u001b[0;32m      <a href='vscode-notebook-cell:/c%3A/Users/user/measure_line_width-1/test.ipynb#ch0000000?line=5'>6</a>\u001b[0m edges \u001b[39m=\u001b[39m cv2\u001b[39m.\u001b[39mCanny(gray,\u001b[39m90\u001b[39m,\u001b[39m450\u001b[39m,apertureSize \u001b[39m=\u001b[39m \u001b[39m3\u001b[39m)\n\u001b[0;32m      <a href='vscode-notebook-cell:/c%3A/Users/user/measure_line_width-1/test.ipynb#ch0000000?line=6'>7</a>\u001b[0m lines \u001b[39m=\u001b[39m cv2\u001b[39m.\u001b[39mHoughLinesP(edges, rho\u001b[39m=\u001b[39m\u001b[39m1\u001b[39m, theta\u001b[39m=\u001b[39mnp\u001b[39m.\u001b[39mpi\u001b[39m/\u001b[39m\u001b[39m360\u001b[39m, threshold\u001b[39m=\u001b[39m\u001b[39m60\u001b[39m, minLineLength\u001b[39m=\u001b[39m\u001b[39m10\u001b[39m, maxLineGap\u001b[39m=\u001b[39m\u001b[39m10\u001b[39m)\n",
      "\u001b[1;31merror\u001b[0m: OpenCV(4.6.0) D:\\a\\opencv-python\\opencv-python\\opencv\\modules\\imgproc\\src\\color.cpp:182: error: (-215:Assertion failed) !_src.empty() in function 'cv::cvtColor'\n"
     ]
    }
   ],
   "source": [
    "import cv2\n",
    "import numpy as np\n",
    "%matplotlib inline\n",
    "img = cv2.imread(\"横線.jpg\")\n",
    "gray = cv2.cvtColor(img,cv2.COLOR_BGR2GRAY)\n",
    "edges = cv2.Canny(gray,90,450,apertureSize = 3)\n",
    "lines = cv2.HoughLinesP(edges, rho=1, theta=np.pi/360, threshold=60, minLineLength=10, maxLineGap=10)\n",
    "for line in lines:\n",
    "    x1, y1, x2, y2 = line[0]\n",
    "    red_line_img = cv2.line(img, (x1,y1), (x2,y2), (0,0,255), 3)\n",
    "\n",
    "cv2.imwrite(\"output3.jpg\", red_line_img)"
   ]
  }
 ],
 "metadata": {
  "kernelspec": {
   "display_name": "Python 3.9.13 ('venv': venv)",
   "language": "python",
   "name": "python3"
  },
  "language_info": {
   "codemirror_mode": {
    "name": "ipython",
    "version": 3
   },
   "file_extension": ".py",
   "mimetype": "text/x-python",
   "name": "python",
   "nbconvert_exporter": "python",
   "pygments_lexer": "ipython3",
   "version": "3.9.13"
  },
  "orig_nbformat": 4,
  "vscode": {
   "interpreter": {
    "hash": "7ff224a5bc1be2ba7ffebe3c32839fe422d977dc5da685ff8f7468c0df034790"
   }
  }
 },
 "nbformat": 4,
 "nbformat_minor": 2
}
