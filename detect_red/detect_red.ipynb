{
 "cells": [
  {
   "cell_type": "markdown",
   "metadata": {},
   "source": [
    "# 赤検知の仕方\n",
    "## 赤の閾値を決める:場所ごとに異なる方が良いかもしれない\n"
   ]
  },
  {
   "cell_type": "code",
   "execution_count": 60,
   "metadata": {},
   "outputs": [],
   "source": [
    "#定数エリア\n",
    "RED_THRE= 100 # 赤判定の閾値\n",
    "RED_PART_THRE = 0.5 #エリア内の赤存在判定の割合\n",
    "\n",
    "#インポートエリア\n",
    "import cv2\n",
    "import numpy as np\n",
    "import matplotlib.pyplot as plt\n",
    "import pandas as pd\n",
    "import glob\n",
    "\n",
    "#jupyter用\n",
    "%matplotlib inline"
   ]
  },
  {
   "cell_type": "markdown",
   "metadata": {},
   "source": [
    "## 画像をRGB値の行列として見る\n"
   ]
  },
  {
   "cell_type": "code",
   "execution_count": 72,
   "metadata": {},
   "outputs": [],
   "source": [
    "from pathlib import Path, PurePosixPath\n",
    "file = Path(\"../images/IMG_4493.jpeg\").resolve()\n",
    "img = cv2.imread(str(file))\n",
    "# plt.imshow(img)\n",
    "from find_color import find_rect_of_target_color\n",
    "rects = find_rect_of_target_color(img,3)"
   ]
  },
  {
   "cell_type": "code",
   "execution_count": 71,
   "metadata": {},
   "outputs": [
    {
     "data": {
      "text/plain": [
       "(1565, 806, 59, 55)"
      ]
     },
     "execution_count": 71,
     "metadata": {},
     "output_type": "execute_result"
    }
   ],
   "source": [
    "\n",
    "rects"
   ]
  },
  {
   "cell_type": "code",
   "execution_count": 68,
   "metadata": {},
   "outputs": [
    {
     "ename": "TypeError",
     "evalue": "'int' object is not subscriptable",
     "output_type": "error",
     "traceback": [
      "\u001b[1;31m---------------------------------------------------------------------------\u001b[0m",
      "\u001b[1;31mTypeError\u001b[0m                                 Traceback (most recent call last)",
      "\u001b[1;32mセル6 を c:\\Users\\user\\detect_red\\measure_line_width\\detect_red\\detect_red.ipynb\u001b[0m in \u001b[0;36m<cell line: 1>\u001b[1;34m()\u001b[0m\n\u001b[0;32m      <a href='vscode-notebook-cell:/c%3A/Users/user/detect_red/measure_line_width/detect_red/detect_red.ipynb#X12sZmlsZQ%3D%3D?line=1'>2</a>\u001b[0m i \u001b[39m=\u001b[39m \u001b[39m1\u001b[39m\n\u001b[0;32m      <a href='vscode-notebook-cell:/c%3A/Users/user/detect_red/measure_line_width/detect_red/detect_red.ipynb#X12sZmlsZQ%3D%3D?line=2'>3</a>\u001b[0m \u001b[39mfor\u001b[39;00m rect \u001b[39min\u001b[39;00m rects:\n\u001b[0;32m      <a href='vscode-notebook-cell:/c%3A/Users/user/detect_red/measure_line_width/detect_red/detect_red.ipynb#X12sZmlsZQ%3D%3D?line=3'>4</a>\u001b[0m \u001b[39m# rect = max(rects, key=(lambda x: x[2] * x[3]))\u001b[39;00m\n\u001b[1;32m----> <a href='vscode-notebook-cell:/c%3A/Users/user/detect_red/measure_line_width/detect_red/detect_red.ipynb#X12sZmlsZQ%3D%3D?line=5'>6</a>\u001b[0m     \u001b[39mif\u001b[39;00m rect[\u001b[39m3\u001b[39;49m] \u001b[39m>\u001b[39m \u001b[39m5\u001b[39m \u001b[39mand\u001b[39;00m rect[\u001b[39m2\u001b[39m] \u001b[39m>\u001b[39m \u001b[39m5\u001b[39m: \u001b[39m# if red circle is one\u001b[39;00m\n\u001b[0;32m      <a href='vscode-notebook-cell:/c%3A/Users/user/detect_red/measure_line_width/detect_red/detect_red.ipynb#X12sZmlsZQ%3D%3D?line=7'>8</a>\u001b[0m         cv2\u001b[39m.\u001b[39mrectangle(img, \u001b[39mtuple\u001b[39m(rect[\u001b[39m0\u001b[39m:\u001b[39m2\u001b[39m]), \u001b[39mtuple\u001b[39m(rect[\u001b[39m0\u001b[39m:\u001b[39m2\u001b[39m] \u001b[39m+\u001b[39m rect[\u001b[39m2\u001b[39m:\u001b[39m4\u001b[39m]), (\u001b[39m0\u001b[39m, \u001b[39m0\u001b[39m, \u001b[39m255\u001b[39m), thickness\u001b[39m=\u001b[39m\u001b[39m2\u001b[39m)\n\u001b[0;32m      <a href='vscode-notebook-cell:/c%3A/Users/user/detect_red/measure_line_width/detect_red/detect_red.ipynb#X12sZmlsZQ%3D%3D?line=8'>9</a>\u001b[0m         cv2\u001b[39m.\u001b[39mputText(img,\n\u001b[0;32m     <a href='vscode-notebook-cell:/c%3A/Users/user/detect_red/measure_line_width/detect_red/detect_red.ipynb#X12sZmlsZQ%3D%3D?line=9'>10</a>\u001b[0m                     text\u001b[39m=\u001b[39m\u001b[39mstr\u001b[39m(i),\n\u001b[0;32m     <a href='vscode-notebook-cell:/c%3A/Users/user/detect_red/measure_line_width/detect_red/detect_red.ipynb#X12sZmlsZQ%3D%3D?line=10'>11</a>\u001b[0m                     org\u001b[39m=\u001b[39m(rect[\u001b[39m0\u001b[39m], rect[\u001b[39m1\u001b[39m]),\n\u001b[1;32m   (...)\u001b[0m\n\u001b[0;32m     <a href='vscode-notebook-cell:/c%3A/Users/user/detect_red/measure_line_width/detect_red/detect_red.ipynb#X12sZmlsZQ%3D%3D?line=14'>15</a>\u001b[0m                     thickness\u001b[39m=\u001b[39m\u001b[39m2\u001b[39m,\n\u001b[0;32m     <a href='vscode-notebook-cell:/c%3A/Users/user/detect_red/measure_line_width/detect_red/detect_red.ipynb#X12sZmlsZQ%3D%3D?line=15'>16</a>\u001b[0m                     lineType\u001b[39m=\u001b[39mcv2\u001b[39m.\u001b[39mLINE_4)\n",
      "\u001b[1;31mTypeError\u001b[0m: 'int' object is not subscriptable"
     ]
    }
   ],
   "source": [
    "\n",
    "if len(rects) > 0:\n",
    "    i = 1\n",
    "    for rect in rects:\n",
    "    # rect = max(rects, key=(lambda x: x[2] * x[3]))\n",
    "\n",
    "        if rect[3] > 5 and rect[2] > 5: # if red circle is one\n",
    "\n",
    "            cv2.rectangle(img, tuple(rect[0:2]), tuple(rect[0:2] + rect[2:4]), (0, 0, 255), thickness=2)\n",
    "            cv2.putText(img,\n",
    "                        text=str(i),\n",
    "                        org=(rect[0], rect[1]),\n",
    "                        fontFace=cv2.FONT_HERSHEY_SIMPLEX,\n",
    "                        fontScale=4,\n",
    "                        color=(255, 0, 0),\n",
    "                        thickness=2,\n",
    "                        lineType=cv2.LINE_4)\n",
    "            print(rect)\n",
    "            i += 1"
   ]
  },
  {
   "cell_type": "code",
   "execution_count": 67,
   "metadata": {},
   "outputs": [
    {
     "name": "stdout",
     "output_type": "stream",
     "text": [
      "Variable                    Type           Data/Info\n",
      "----------------------------------------------------\n",
      "Path                        type           <class 'pathlib.Path'>\n",
      "PurePosixPath               type           <class 'pathlib.PurePosixPath'>\n",
      "RED_PART_THRE               float          0.5\n",
      "RED_THRE                    int            100\n",
      "cv2                         module         <module 'cv2' from 'c:\\\\U<...>kages\\\\cv2\\\\__init__.py'>\n",
      "file                        WindowsPath    C:\\Users\\user\\detect_red\\<...>idth\\images\\IMG_4493.jpeg\n",
      "find_rect_of_target_color   function       <function find_rect_of_ta<...>or at 0x000001BF6C33E5E0>\n",
      "glob                        module         <module 'glob' from 'C:\\\\<...>n2kfra8p0\\\\lib\\\\glob.py'>\n",
      "i                           int            1\n",
      "img                         ndarray        3024x4032x3: 36578304 elems, type `uint8`, 36578304 bytes (34.8837890625 Mb)\n",
      "np                          module         <module 'numpy' from 'c:\\<...>ges\\\\numpy\\\\__init__.py'>\n",
      "os                          module         <module 'os' from 'C:\\\\Pr<...>z5n2kfra8p0\\\\lib\\\\os.py'>\n",
      "pd                          module         <module 'pandas' from 'c:<...>es\\\\pandas\\\\__init__.py'>\n",
      "plt                         module         <module 'matplotlib.pyplo<...>\\\\matplotlib\\\\pyplot.py'>\n",
      "rect                        int            1565\n",
      "rects                       tuple          n=4\n",
      "sys                         module         <module 'sys' (built-in)>\n"
     ]
    }
   ],
   "source": [
    "# plt.imshow(img)\n",
    "%whos"
   ]
  },
  {
   "cell_type": "code",
   "execution_count": null,
   "metadata": {},
   "outputs": [],
   "source": [
    "# cv2.putText(img,\"11111111\",(10,10),cv2.FONT_HERSHEY_SIMPLEX,1.5,(255,255,255),1, cv2.LINE_AA)\n",
    "# plt.imshow(img)\n",
    "cv2.imwrite('output.jpg',img)"
   ]
  },
  {
   "cell_type": "markdown",
   "metadata": {},
   "source": [
    "## Rが赤の閾値以上の時は255, G=0, B=0 で赤の二値化をする\n"
   ]
  },
  {
   "cell_type": "code",
   "execution_count": null,
   "metadata": {},
   "outputs": [],
   "source": []
  },
  {
   "cell_type": "markdown",
   "metadata": {},
   "source": [
    "## 赤存在判定の閾値を決める：エリア内に～ピクセル以上"
   ]
  },
  {
   "cell_type": "markdown",
   "metadata": {},
   "source": []
  }
 ],
 "metadata": {
  "kernelspec": {
   "display_name": "Python 3.9.13 ('venv': venv)",
   "language": "python",
   "name": "python3"
  },
  "language_info": {
   "codemirror_mode": {
    "name": "ipython",
    "version": 3
   },
   "file_extension": ".py",
   "mimetype": "text/x-python",
   "name": "python",
   "nbconvert_exporter": "python",
   "pygments_lexer": "ipython3",
   "version": "3.9.13"
  },
  "orig_nbformat": 4,
  "vscode": {
   "interpreter": {
    "hash": "632f1be43b9d4f052097128d00e9d630151496ba8146a2b3cfbf9d0f457fe3c8"
   }
  }
 },
 "nbformat": 4,
 "nbformat_minor": 2
}
