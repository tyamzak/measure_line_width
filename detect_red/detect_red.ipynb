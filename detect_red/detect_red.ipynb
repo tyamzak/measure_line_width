{
 "cells": [
  {
   "cell_type": "code",
   "execution_count": 323,
   "metadata": {},
   "outputs": [],
   "source": [
    "#定数エリア\n",
    "DIFF_RATIO = 1 #荷物判定の割合(% 3%なら3を指定)\n",
    "\n",
    "\n",
    "\n",
    "#インポートエリア\n",
    "import cv2\n",
    "import numpy as np\n",
    "import matplotlib.pyplot as plt\n",
    "import pandas as pd\n",
    "import glob\n",
    "from pathlib import Path, PurePosixPath\n",
    "\n",
    "#jupyter用\n",
    "%matplotlib inline\n"
   ]
  },
  {
   "cell_type": "code",
   "execution_count": 325,
   "metadata": {},
   "outputs": [],
   "source": [
    "def set_box(file:Path) -> dict:\n",
    "\n",
    "    img = cv2.imread(str(file))\n",
    "\n",
    "    box = dict()\n",
    "    # 各ボックスの座標データ　左上から縦に１列ずつ合計40ボックス\n",
    "    # 読み方：img[Y座標上:Y座標下, X座標左, X座標右]\n",
    "    box[0]=img[1039:1296,96:885]\n",
    "    box[1]=img[1309:1558,110:906]\n",
    "    box[2]=img[1570:1810,142:916]\n",
    "    box[3]=img[1816:2055,168:936]\n",
    "    box[4]=img[2066:2294,193:948]\n",
    "    box[5]=img[2303:2526,213:970]\n",
    "    box[6]=img[2533:2747,245:982]\n",
    "    box[7]=img[2761:2980,268:996]\n",
    "    box[8]=img[1034:1290,920:1692]\n",
    "    box[9]=img[1292:1553,936:1696]\n",
    "    box[10]=img[1558:1795,950:1712]\n",
    "    box[11]=img[1800:2041,970:1713]\n",
    "    box[12]=img[2048:2281,984:1722]\n",
    "    box[13]=img[2288:2512,990:1729]\n",
    "    box[14]=img[2518:2734,1005:1732]\n",
    "    box[15]=img[2748:2969,1018:1738]\n",
    "    box[16]=img[1025:1284,1728:2486]\n",
    "    box[17]=img[1291:1536,1729:2482]\n",
    "    box[18]=img[1542:1782,1742:2476]\n",
    "    box[19]=img[1784:2022,1746:2488]\n",
    "    box[20]=img[2030:2260,1766:2472]\n",
    "    box[21]=img[2264:2492,1756:2474]\n",
    "    box[22]=img[2496:2724,1762:2468]\n",
    "    box[23]=img[2724:2936,1768:2470]\n",
    "    box[24]=img[1011:1268,2532:3285]\n",
    "    box[25]=img[1272:1524,2524:3286]\n",
    "    box[26]=img[1520:1776,2520:3248]\n",
    "    box[27]=img[1778:2024,2520:3248]\n",
    "    box[28]=img[2012:2252,2520:3230]\n",
    "    box[29]=img[2244:2494,2516:3224]\n",
    "    box[30]=img[2482:2708,2514:3210]\n",
    "    box[31]=img[2712:2940,2508:3204]\n",
    "    box[32]=img[994:1248,3316:4028]\n",
    "    box[33]=img[1248:1508,3314:4020]\n",
    "    box[34]=img[1510:1756,3300:4018]\n",
    "    box[35]=img[1764:1998,3282:4012]\n",
    "    box[36]=img[2004:2240,3274:3998]\n",
    "    box[37]=img[2240:2468,3264:3964]\n",
    "    box[38]=img[2482:2698,3246:3964]\n",
    "    box[39]=img[2688:2910,3234:3954]\n",
    "    return box"
   ]
  },
  {
   "cell_type": "code",
   "execution_count": 327,
   "metadata": {},
   "outputs": [],
   "source": [
    "def make_emptyimage(box:dict):\n",
    "    i = 0\n",
    "    for chi_img in box.values():\n",
    "        filename = Path(f'../images/empty/empty{i}.jpeg').resolve()\n",
    "        cv2.imwrite(str(filename),chi_img)\n",
    "        i += 1"
   ]
  },
  {
   "cell_type": "code",
   "execution_count": 328,
   "metadata": {},
   "outputs": [],
   "source": [
    "def make_sourceimage(box:dict):\n",
    "    i = 0\n",
    "    for chi_img in box.values():\n",
    "        filename = Path(f'../images/source/source{i}.jpeg').resolve()\n",
    "        cv2.imwrite(str(filename),chi_img)\n",
    "        i += 1"
   ]
  },
  {
   "cell_type": "code",
   "execution_count": 393,
   "metadata": {},
   "outputs": [],
   "source": [
    "def export_result(result:list):\n",
    "    import pandas as pd\n",
    "    filename =  Path('./result/result.csv').resolve()\n",
    "    if Path.exists(filename):\n",
    "        res = pd.read_csv(filename,header=0)\n",
    "        res = res.append(result)\n",
    "        if len(res) > 4:\n",
    "            res.drop(index=1)\n",
    "        res.to_csv(filename)\n",
    "    else:\n",
    "        res = []\n",
    "        res.append(result)\n",
    "        res = pd.DataFrame(res)\n",
    "        res.to_csv(filename)\n",
    "    \n",
    "    #3回連続のアラート情報がある場合、メッセージ表示\n",
    "    if len(res) == 3:\n",
    "        for i in range(len(res)):\n",
    "            if res.iloc[0,i] and res.iloc[1,i] and res.iloc[2,i] :\n",
    "                msg = f'{i} 番ポスト　郵送物あり'\n",
    "                print(msg)\n",
    "\n",
    "    \n",
    "    \n"
   ]
  },
  {
   "cell_type": "code",
   "execution_count": 382,
   "metadata": {},
   "outputs": [],
   "source": [
    "res"
   ]
  },
  {
   "cell_type": "code",
   "execution_count": 375,
   "metadata": {},
   "outputs": [
    {
     "name": "stdout",
     "output_type": "stream",
     "text": [
      "0 番ポスト　郵送物あり\n",
      "1 番ポスト　郵送物あり\n"
     ]
    }
   ],
   "source": [
    "li = []\n",
    "\n",
    "li.append([True,True,False])\n",
    "li.append([True,True,False])\n",
    "li.append([True,True,False])\n",
    "li.append([True,True,False])\n",
    "li.append([True,True,False])\n",
    "\n",
    "\n",
    "while len(li) > 3:\n",
    "    li.pop()\n",
    "\n",
    "\n",
    "d = pd.DataFrame(li)\n",
    "if len(d) == 3:\n",
    "    for i in range(len(d)):\n",
    "        if d.iloc[0,i] and d.iloc[1,i] and d.iloc[2,i] :\n",
    "            msg = f'{i} 番ポスト　郵送物あり'\n",
    "            print(msg)\n",
    "\n"
   ]
  },
  {
   "cell_type": "code",
   "execution_count": 329,
   "metadata": {},
   "outputs": [],
   "source": [
    "def compare_img(img_1, img_2) -> float:\n",
    "    \"\"\"_summary_\n",
    "\n",
    "    Args:\n",
    "        img_1: 郵便受けの画像\n",
    "        img_2: 空の郵便受けの画像\n",
    "\n",
    "    Returns:\n",
    "        float: 画像の差の割合\n",
    "    Examples:\n",
    "        diff_ratio = compare_img(cv2.imread('nimotsu_output3.jpg'),cv2.imread('empty_output3.jpg'))\n",
    "    \"\"\"\n",
    "    import cv2\n",
    "    import os\n",
    "    import numpy as np\n",
    "\n",
    "\n",
    "    height = img_1.shape[0]\n",
    "    width = img_1.shape[1]\n",
    "\n",
    "    img_size = (int(width), int(height))\n",
    "\n",
    "    # # 画像をリサイズする\n",
    "    image1 = cv2.resize(img_1, img_size)\n",
    "    image2 = cv2.resize(img_2, img_size)\n",
    "\n",
    "    # ２画像の差異を計算\n",
    "    im_diff = image1.astype(int) - image2.astype(int)\n",
    "\n",
    "    #変化総量　要素ごとの　BGRの値を足し合わせる\n",
    "    ratio = (np.abs(im_diff).sum()) / (im_diff.size * 255)\n",
    "    return(ratio, im_diff)"
   ]
  },
  {
   "cell_type": "code",
   "execution_count": 330,
   "metadata": {},
   "outputs": [],
   "source": [
    "#初期化エリア\n",
    "#空のボックス画像を指定\n",
    "emptyfile = Path(\"../images/nimotsu0.jpeg\").resolve()\n",
    "# emptyimg = cv2.imread(str(emptyfile))\n",
    "#空のボックス画像をボックス毎に切り分ける\n",
    "empty_box = set_box(emptyfile)\n",
    "#空のボックス画像を比較用として作成する\n",
    "make_emptyimage(empty_box)"
   ]
  },
  {
   "cell_type": "code",
   "execution_count": 394,
   "metadata": {},
   "outputs": [
    {
     "name": "stdout",
     "output_type": "stream",
     "text": [
      "i = 0  画像相違割合 = 3.22 %\n",
      "i = 1  画像相違割合 = 1.85 %\n",
      "i = 2  画像相違割合 = 1.34 %\n",
      "i = 3  画像相違割合 = 2.03 %\n",
      "i = 4  画像相違割合 = 4.49 %\n",
      "i = 5  画像相違割合 = 6.36 %\n",
      "i = 6  画像相違割合 = 7.03 %\n",
      "i = 7  画像相違割合 = 6.6 %\n",
      "i = 8  画像相違割合 = 10.6 %\n",
      "i = 9  画像相違割合 = 10 %\n",
      "i = 10  画像相違割合 = 7.03 %\n",
      "i = 11  画像相違割合 = 6.01 %\n",
      "i = 12  画像相違割合 = 5.87 %\n",
      "i = 13  画像相違割合 = 6.37 %\n",
      "i = 14  画像相違割合 = 6.46 %\n",
      "i = 15  画像相違割合 = 7.69 %\n",
      "i = 16  画像相違割合 = 11.3 %\n",
      "i = 17  画像相違割合 = 10.1 %\n",
      "i = 18  画像相違割合 = 9.95 %\n",
      "i = 19  画像相違割合 = 11.2 %\n",
      "i = 20  画像相違割合 = 11.2 %\n",
      "i = 21  画像相違割合 = 11.1 %\n",
      "i = 22  画像相違割合 = 11.6 %\n",
      "i = 23  画像相違割合 = 11.6 %\n",
      "i = 24  画像相違割合 = 7.92 %\n",
      "i = 25  画像相違割合 = 7.42 %\n",
      "i = 26  画像相違割合 = 8.8 %\n",
      "i = 27  画像相違割合 = 12.8 %\n",
      "i = 28  画像相違割合 = 14.9 %\n",
      "i = 29  画像相違割合 = 14.9 %\n",
      "i = 30  画像相違割合 = 16.7 %\n",
      "i = 31  画像相違割合 = 14.9 %\n",
      "i = 32  画像相違割合 = 4.79 %\n",
      "i = 33  画像相違割合 = 7.46 %\n",
      "i = 34  画像相違割合 = 5.8 %\n",
      "i = 35  画像相違割合 = 9.81 %\n",
      "i = 36  画像相違割合 = 10.2 %\n",
      "i = 37  画像相違割合 = 11.6 %\n",
      "i = 38  画像相違割合 = 12.3 %\n",
      "i = 39  画像相違割合 = 12.9 %\n"
     ]
    },
    {
     "name": "stderr",
     "output_type": "stream",
     "text": [
      "C:\\Users\\user\\AppData\\Local\\Temp\\ipykernel_12812\\4191727958.py:6: FutureWarning: The frame.append method is deprecated and will be removed from pandas in a future version. Use pandas.concat instead.\n",
      "  res = res.append(result)\n"
     ]
    }
   ],
   "source": [
    "\n",
    "#実行エリア\n",
    "#比較対象の画像を指定\n",
    "file = Path(\"../images/nimotsuall.jpeg\").resolve()\n",
    "\n",
    "box = set_box(file)\n",
    "make_sourceimage(box)\n",
    "\n",
    "\n",
    "import pandas as pd\n",
    "result = list()\n",
    "for i in range(len(box)):\n",
    "    ratio, img_diff =compare_img(box[i], empty_box[i])\n",
    "    filename = Path(f'../images/difference/difference{i}.jpeg').resolve()\n",
    "    cv2.imwrite(str(filename),img_diff)\n",
    "    txt = f'i = {i}  画像相違割合 = {(ratio * 100):.3g} %'\n",
    "    print(txt)\n",
    "    result.append(ratio,ratio > DIFF_RATIO)\n",
    "    \n",
    "res = export_result(result)\n",
    "\n"
   ]
  },
  {
   "cell_type": "code",
   "execution_count": 251,
   "metadata": {},
   "outputs": [],
   "source": [
    "\n",
    "    rects = find_rect_of_target_color(chi_img,5,overall_lower,overall_upper)\n",
    "    area = 0\n",
    "    if len(rects) > 0:\n",
    "        \n",
    "        # for rect in rects:\n",
    "        rect = max(rects, key=(lambda x: x[2] * x[3]))\n",
    "        \n",
    "        if rect[2] > 0 and rect[3] > 0 : # 左上のｘ座標、左上のｙ座標、横幅、縦の幅）\n",
    "        # if rect[1] > 1000 and rect[2] > 0 and rect[3] > 0 : # 左上のｘ座標、左上のｙ座標、横幅、縦の幅）\n",
    "\n",
    "            cv2.rectangle(chi_img, tuple(rect[0:2]), tuple(rect[0:2] + rect[2:4]), (0, 0, 255), thickness=2)\n",
    "            # cv2.putText(img,\n",
    "            #             text=str(i) + ' x=' + str(rect[0]) + ' y=' + str(rect[1]),\n",
    "            #             org=(rect[0], rect[1]),\n",
    "            #             fontFace=cv2.FONT_HERSHEY_SIMPLEX,\n",
    "            #             fontScale=4,\n",
    "            #             color=(255, 0, 0),\n",
    "            #             thickness=2,\n",
    "            #             lineType=cv2.LINE_4)\n",
    "    filename = f'output{i}.jpg'\n",
    "    area =  rect[2] * rect[3]\n",
    "    cv2.imwrite(filename,chi_img)\n",
    "    if area < 100000:\n",
    "        print('荷物発見',i, rect, rect[2] * rect[3])\n",
    "    # print(rect)\n",
    "    i += 1\n"
   ]
  },
  {
   "cell_type": "markdown",
   "metadata": {},
   "source": []
  }
 ],
 "metadata": {
  "kernelspec": {
   "display_name": "Python 3.9.13 ('venv': venv)",
   "language": "python",
   "name": "python3"
  },
  "language_info": {
   "codemirror_mode": {
    "name": "ipython",
    "version": 3
   },
   "file_extension": ".py",
   "mimetype": "text/x-python",
   "name": "python",
   "nbconvert_exporter": "python",
   "pygments_lexer": "ipython3",
   "version": "3.9.13"
  },
  "orig_nbformat": 4,
  "vscode": {
   "interpreter": {
    "hash": "632f1be43b9d4f052097128d00e9d630151496ba8146a2b3cfbf9d0f457fe3c8"
   }
  }
 },
 "nbformat": 4,
 "nbformat_minor": 2
}
